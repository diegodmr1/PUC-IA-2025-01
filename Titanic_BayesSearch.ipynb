{
  "nbformat": 4,
  "nbformat_minor": 0,
  "metadata": {
    "colab": {
      "provenance": [],
      "toc_visible": true
    },
    "kernelspec": {
      "name": "python3",
      "display_name": "Python 3"
    },
    "language_info": {
      "name": "python"
    }
  },
  "cells": [
    {
      "cell_type": "code",
      "execution_count": 1,
      "metadata": {
        "colab": {
          "base_uri": "https://localhost:8080/"
        },
        "id": "UEEU6V4jFcD9",
        "outputId": "09fc1dbe-4b0d-4d83-9262-954e6d9dd172"
      },
      "outputs": [
        {
          "output_type": "stream",
          "name": "stdout",
          "text": [
            "Collecting scikit-optimize\n",
            "  Downloading scikit_optimize-0.10.2-py2.py3-none-any.whl.metadata (9.7 kB)\n",
            "Requirement already satisfied: pandas in /usr/local/lib/python3.11/dist-packages (2.2.2)\n",
            "Requirement already satisfied: numpy in /usr/local/lib/python3.11/dist-packages (2.0.2)\n",
            "Requirement already satisfied: scikit-learn in /usr/local/lib/python3.11/dist-packages (1.6.1)\n",
            "Requirement already satisfied: matplotlib in /usr/local/lib/python3.11/dist-packages (3.10.0)\n",
            "Requirement already satisfied: seaborn in /usr/local/lib/python3.11/dist-packages (0.13.2)\n",
            "Requirement already satisfied: joblib>=0.11 in /usr/local/lib/python3.11/dist-packages (from scikit-optimize) (1.4.2)\n",
            "Collecting pyaml>=16.9 (from scikit-optimize)\n",
            "  Downloading pyaml-25.1.0-py3-none-any.whl.metadata (12 kB)\n",
            "Requirement already satisfied: scipy>=1.1.0 in /usr/local/lib/python3.11/dist-packages (from scikit-optimize) (1.14.1)\n",
            "Requirement already satisfied: packaging>=21.3 in /usr/local/lib/python3.11/dist-packages (from scikit-optimize) (24.2)\n",
            "Requirement already satisfied: python-dateutil>=2.8.2 in /usr/local/lib/python3.11/dist-packages (from pandas) (2.8.2)\n",
            "Requirement already satisfied: pytz>=2020.1 in /usr/local/lib/python3.11/dist-packages (from pandas) (2025.1)\n",
            "Requirement already satisfied: tzdata>=2022.7 in /usr/local/lib/python3.11/dist-packages (from pandas) (2025.1)\n",
            "Requirement already satisfied: threadpoolctl>=3.1.0 in /usr/local/lib/python3.11/dist-packages (from scikit-learn) (3.6.0)\n",
            "Requirement already satisfied: contourpy>=1.0.1 in /usr/local/lib/python3.11/dist-packages (from matplotlib) (1.3.1)\n",
            "Requirement already satisfied: cycler>=0.10 in /usr/local/lib/python3.11/dist-packages (from matplotlib) (0.12.1)\n",
            "Requirement already satisfied: fonttools>=4.22.0 in /usr/local/lib/python3.11/dist-packages (from matplotlib) (4.56.0)\n",
            "Requirement already satisfied: kiwisolver>=1.3.1 in /usr/local/lib/python3.11/dist-packages (from matplotlib) (1.4.8)\n",
            "Requirement already satisfied: pillow>=8 in /usr/local/lib/python3.11/dist-packages (from matplotlib) (11.1.0)\n",
            "Requirement already satisfied: pyparsing>=2.3.1 in /usr/local/lib/python3.11/dist-packages (from matplotlib) (3.2.1)\n",
            "Requirement already satisfied: PyYAML in /usr/local/lib/python3.11/dist-packages (from pyaml>=16.9->scikit-optimize) (6.0.2)\n",
            "Requirement already satisfied: six>=1.5 in /usr/local/lib/python3.11/dist-packages (from python-dateutil>=2.8.2->pandas) (1.17.0)\n",
            "Downloading scikit_optimize-0.10.2-py2.py3-none-any.whl (107 kB)\n",
            "\u001b[2K   \u001b[90m━━━━━━━━━━━━━━━━━━━━━━━━━━━━━━━━━━━━━━━━\u001b[0m \u001b[32m107.8/107.8 kB\u001b[0m \u001b[31m2.2 MB/s\u001b[0m eta \u001b[36m0:00:00\u001b[0m\n",
            "\u001b[?25hDownloading pyaml-25.1.0-py3-none-any.whl (26 kB)\n",
            "Installing collected packages: pyaml, scikit-optimize\n",
            "Successfully installed pyaml-25.1.0 scikit-optimize-0.10.2\n"
          ]
        }
      ],
      "source": [
        "!pip install scikit-optimize pandas numpy scikit-learn matplotlib seaborn\n",
        "\n"
      ]
    },
    {
      "cell_type": "code",
      "source": [
        "import numpy as np\n",
        "import pandas as pd\n",
        "import seaborn as sns\n",
        "import matplotlib.pyplot as plt\n",
        "\n",
        "from sklearn.model_selection import train_test_split\n",
        "from sklearn.ensemble import RandomForestClassifier\n",
        "from sklearn.tree import DecisionTreeClassifier\n",
        "from sklearn.metrics import accuracy_score, classification_report\n",
        "from skopt import BayesSearchCV\n"
      ],
      "metadata": {
        "id": "uorTE0jBFwDj"
      },
      "execution_count": 2,
      "outputs": []
    },
    {
      "cell_type": "code",
      "source": [
        "import os\n",
        "print(os.listdir())  # Lista os arquivos na pasta atual"
      ],
      "metadata": {
        "colab": {
          "base_uri": "https://localhost:8080/"
        },
        "id": "AlIka0odGWeM",
        "outputId": "5d2aaa98-9078-4d11-a373-0196bda65d4a"
      },
      "execution_count": 4,
      "outputs": [
        {
          "output_type": "stream",
          "name": "stdout",
          "text": [
            "['.config', 'titanic (1).zip', 'sample_data']\n"
          ]
        }
      ]
    },
    {
      "cell_type": "code",
      "source": [
        "import zipfile\n",
        "import os\n",
        "\n",
        "# Descompactar o arquivo ZIP (substitua 'seu_arquivo.zip' pelo nome correto)\n",
        "with zipfile.ZipFile(\"titanic (1).zip\", 'r') as zip_ref:\n",
        "    zip_ref.extractall(\"titanic_data\")\n",
        "\n",
        "# Listar arquivos extraídos\n",
        "print(\"Arquivos extraídos:\", os.listdir(\"titanic_data\"))\n"
      ],
      "metadata": {
        "colab": {
          "base_uri": "https://localhost:8080/"
        },
        "id": "HPUW26-hGost",
        "outputId": "d96780fd-d278-4c51-a784-bc72d0b90fa8"
      },
      "execution_count": 5,
      "outputs": [
        {
          "output_type": "stream",
          "name": "stdout",
          "text": [
            "Arquivos extraídos: ['test.csv', 'train.csv', 'gender_submission.csv']\n"
          ]
        }
      ]
    },
    {
      "cell_type": "code",
      "source": [
        "# Importar os dados\n",
        "train_df = pd.read_csv(\"titanic_data/train.csv\")\n",
        "test_df = pd.read_csv(\"titanic_data/test.csv\")\n",
        "\n",
        "# Visualizar as primeiras linhas do conjunto de treino\n",
        "print(\"Dados de treino:\")\n",
        "print(train_df.head())\n",
        "\n",
        "# Visualizar as primeiras linhas do conjunto de teste\n",
        "print(\"\\nDados de teste:\")\n",
        "print(test_df.head())\n",
        "\n"
      ],
      "metadata": {
        "colab": {
          "base_uri": "https://localhost:8080/"
        },
        "id": "db00dTWEGyPJ",
        "outputId": "5efe6275-dd18-4eab-d5ed-4283bbeb9f82"
      },
      "execution_count": 6,
      "outputs": [
        {
          "output_type": "stream",
          "name": "stdout",
          "text": [
            "Dados de treino:\n",
            "   PassengerId  Survived  Pclass  \\\n",
            "0            1         0       3   \n",
            "1            2         1       1   \n",
            "2            3         1       3   \n",
            "3            4         1       1   \n",
            "4            5         0       3   \n",
            "\n",
            "                                                Name     Sex   Age  SibSp  \\\n",
            "0                            Braund, Mr. Owen Harris    male  22.0      1   \n",
            "1  Cumings, Mrs. John Bradley (Florence Briggs Th...  female  38.0      1   \n",
            "2                             Heikkinen, Miss. Laina  female  26.0      0   \n",
            "3       Futrelle, Mrs. Jacques Heath (Lily May Peel)  female  35.0      1   \n",
            "4                           Allen, Mr. William Henry    male  35.0      0   \n",
            "\n",
            "   Parch            Ticket     Fare Cabin Embarked  \n",
            "0      0         A/5 21171   7.2500   NaN        S  \n",
            "1      0          PC 17599  71.2833   C85        C  \n",
            "2      0  STON/O2. 3101282   7.9250   NaN        S  \n",
            "3      0            113803  53.1000  C123        S  \n",
            "4      0            373450   8.0500   NaN        S  \n",
            "\n",
            "Dados de teste:\n",
            "   PassengerId  Pclass                                          Name     Sex  \\\n",
            "0          892       3                              Kelly, Mr. James    male   \n",
            "1          893       3              Wilkes, Mrs. James (Ellen Needs)  female   \n",
            "2          894       2                     Myles, Mr. Thomas Francis    male   \n",
            "3          895       3                              Wirz, Mr. Albert    male   \n",
            "4          896       3  Hirvonen, Mrs. Alexander (Helga E Lindqvist)  female   \n",
            "\n",
            "    Age  SibSp  Parch   Ticket     Fare Cabin Embarked  \n",
            "0  34.5      0      0   330911   7.8292   NaN        Q  \n",
            "1  47.0      1      0   363272   7.0000   NaN        S  \n",
            "2  62.0      0      0   240276   9.6875   NaN        Q  \n",
            "3  27.0      0      0   315154   8.6625   NaN        S  \n",
            "4  22.0      1      1  3101298  12.2875   NaN        S  \n"
          ]
        }
      ]
    },
    {
      "cell_type": "code",
      "source": [
        "# Remover colunas irrelevantes\n",
        "cols_to_drop = ['PassengerId', 'Name', 'Ticket', 'Cabin']\n",
        "train_df = train_df.drop(columns=cols_to_drop)\n",
        "test_df = test_df.drop(columns=cols_to_drop)\n",
        "\n",
        "# Preencher valores ausentes em 'Age' com a média\n",
        "train_df['Age'].fillna(train_df['Age'].mean(), inplace=True)\n",
        "test_df['Age'].fillna(test_df['Age'].mean(), inplace=True)\n",
        "\n",
        "# Preencher valores ausentes em 'Embarked' com o mais frequente\n",
        "train_df['Embarked'].fillna(train_df['Embarked'].mode()[0], inplace=True)\n",
        "test_df['Embarked'].fillna(test_df['Embarked'].mode()[0], inplace=True)\n",
        "\n",
        "# Converter variáveis categóricas em numéricas\n",
        "train_df = pd.get_dummies(train_df, columns=['Sex', 'Embarked'], drop_first=True)\n",
        "test_df = pd.get_dummies(test_df, columns=['Sex', 'Embarked'], drop_first=True)\n",
        "\n",
        "# Verificar os dados após a transformação\n",
        "print(train_df.head())\n",
        "print(test_df.head())\n"
      ],
      "metadata": {
        "colab": {
          "base_uri": "https://localhost:8080/"
        },
        "id": "bFK2TXnwG5fV",
        "outputId": "45f3482a-4ea3-4091-b838-7208341b919d"
      },
      "execution_count": 7,
      "outputs": [
        {
          "output_type": "stream",
          "name": "stdout",
          "text": [
            "   Survived  Pclass   Age  SibSp  Parch     Fare  Sex_male  Embarked_Q  \\\n",
            "0         0       3  22.0      1      0   7.2500      True       False   \n",
            "1         1       1  38.0      1      0  71.2833     False       False   \n",
            "2         1       3  26.0      0      0   7.9250     False       False   \n",
            "3         1       1  35.0      1      0  53.1000     False       False   \n",
            "4         0       3  35.0      0      0   8.0500      True       False   \n",
            "\n",
            "   Embarked_S  \n",
            "0        True  \n",
            "1       False  \n",
            "2        True  \n",
            "3        True  \n",
            "4        True  \n",
            "   Pclass   Age  SibSp  Parch     Fare  Sex_male  Embarked_Q  Embarked_S\n",
            "0       3  34.5      0      0   7.8292      True        True       False\n",
            "1       3  47.0      1      0   7.0000     False       False        True\n",
            "2       2  62.0      0      0   9.6875      True        True       False\n",
            "3       3  27.0      0      0   8.6625      True       False        True\n",
            "4       3  22.0      1      1  12.2875     False       False        True\n"
          ]
        },
        {
          "output_type": "stream",
          "name": "stderr",
          "text": [
            "<ipython-input-7-de49eae9c8de>:7: FutureWarning: A value is trying to be set on a copy of a DataFrame or Series through chained assignment using an inplace method.\n",
            "The behavior will change in pandas 3.0. This inplace method will never work because the intermediate object on which we are setting values always behaves as a copy.\n",
            "\n",
            "For example, when doing 'df[col].method(value, inplace=True)', try using 'df.method({col: value}, inplace=True)' or df[col] = df[col].method(value) instead, to perform the operation inplace on the original object.\n",
            "\n",
            "\n",
            "  train_df['Age'].fillna(train_df['Age'].mean(), inplace=True)\n",
            "<ipython-input-7-de49eae9c8de>:8: FutureWarning: A value is trying to be set on a copy of a DataFrame or Series through chained assignment using an inplace method.\n",
            "The behavior will change in pandas 3.0. This inplace method will never work because the intermediate object on which we are setting values always behaves as a copy.\n",
            "\n",
            "For example, when doing 'df[col].method(value, inplace=True)', try using 'df.method({col: value}, inplace=True)' or df[col] = df[col].method(value) instead, to perform the operation inplace on the original object.\n",
            "\n",
            "\n",
            "  test_df['Age'].fillna(test_df['Age'].mean(), inplace=True)\n",
            "<ipython-input-7-de49eae9c8de>:11: FutureWarning: A value is trying to be set on a copy of a DataFrame or Series through chained assignment using an inplace method.\n",
            "The behavior will change in pandas 3.0. This inplace method will never work because the intermediate object on which we are setting values always behaves as a copy.\n",
            "\n",
            "For example, when doing 'df[col].method(value, inplace=True)', try using 'df.method({col: value}, inplace=True)' or df[col] = df[col].method(value) instead, to perform the operation inplace on the original object.\n",
            "\n",
            "\n",
            "  train_df['Embarked'].fillna(train_df['Embarked'].mode()[0], inplace=True)\n",
            "<ipython-input-7-de49eae9c8de>:12: FutureWarning: A value is trying to be set on a copy of a DataFrame or Series through chained assignment using an inplace method.\n",
            "The behavior will change in pandas 3.0. This inplace method will never work because the intermediate object on which we are setting values always behaves as a copy.\n",
            "\n",
            "For example, when doing 'df[col].method(value, inplace=True)', try using 'df.method({col: value}, inplace=True)' or df[col] = df[col].method(value) instead, to perform the operation inplace on the original object.\n",
            "\n",
            "\n",
            "  test_df['Embarked'].fillna(test_df['Embarked'].mode()[0], inplace=True)\n"
          ]
        }
      ]
    },
    {
      "cell_type": "code",
      "source": [
        "# Separar rótulos (variável alvo) e features\n",
        "X_train = train_df.drop(columns=['Survived'])  # Todas as colunas exceto \"Survived\"\n",
        "y_train = train_df['Survived']  # Apenas a coluna \"Survived\"\n",
        "\n",
        "X_test = test_df.copy()  # Os dados de teste não têm a coluna \"Survived\"\n",
        "\n",
        "# Verificar as dimensões dos dados\n",
        "print(\"Dimensão dos dados de treino:\", X_train.shape)\n",
        "print(\"Dimensão dos rótulos de treino:\", y_train.shape)\n",
        "print(\"Dimensão dos dados de teste:\", X_test.shape)\n"
      ],
      "metadata": {
        "colab": {
          "base_uri": "https://localhost:8080/"
        },
        "id": "y3GX-RmPG_W-",
        "outputId": "9bad4812-3cc6-426b-872e-9bc166dc4bb1"
      },
      "execution_count": 9,
      "outputs": [
        {
          "output_type": "stream",
          "name": "stdout",
          "text": [
            "Dimensão dos dados de treino: (891, 8)\n",
            "Dimensão dos rótulos de treino: (891,)\n",
            "Dimensão dos dados de teste: (418, 8)\n"
          ]
        }
      ]
    },
    {
      "cell_type": "code",
      "source": [
        "from skopt import BayesSearchCV\n",
        "from sklearn.ensemble import RandomForestClassifier\n",
        "from sklearn.tree import DecisionTreeClassifier\n",
        "from sklearn.model_selection import cross_val_score\n",
        "\n",
        "# Definir os modelos\n",
        "rf = RandomForestClassifier(random_state=42)\n",
        "dt = DecisionTreeClassifier(random_state=42)\n",
        "\n",
        "# Definir espaço de busca dos hiperparâmetros\n",
        "param_grid_rf = {\n",
        "    'n_estimators': (10, 200),\n",
        "    'max_depth': (3, 20),\n",
        "    'min_samples_split': (2, 10),\n",
        "    'min_samples_leaf': (1, 10)\n",
        "}\n",
        "\n",
        "param_grid_dt = {\n",
        "    'max_depth': (3, 20),\n",
        "    'min_samples_split': (2, 10),\n",
        "    'min_samples_leaf': (1, 10)\n",
        "}\n",
        "\n",
        "# Criar otimizadores Bayesianos\n",
        "opt_rf = BayesSearchCV(rf, param_grid_rf, n_iter=20, cv=5, random_state=42, n_jobs=-1)\n",
        "opt_dt = BayesSearchCV(dt, param_grid_dt, n_iter=20, cv=5, random_state=42, n_jobs=-1)\n",
        "\n",
        "# Treinar os modelos\n",
        "opt_rf.fit(X_train, y_train)\n",
        "opt_dt.fit(X_train, y_train)\n",
        "\n",
        "# Melhor modelo e suas métricas\n",
        "best_rf = opt_rf.best_estimator_\n",
        "best_dt = opt_dt.best_estimator_\n",
        "\n",
        "rf_score = cross_val_score(best_rf, X_train, y_train, cv=5).mean()\n",
        "dt_score = cross_val_score(best_dt, X_train, y_train, cv=5).mean()\n",
        "\n",
        "print(\"Melhor Random Forest Score:\", rf_score)\n",
        "print(\"Melhor Decision Tree Score:\", dt_score)\n",
        "\n"
      ],
      "metadata": {
        "colab": {
          "base_uri": "https://localhost:8080/"
        },
        "id": "ifJS8nRdHL7Q",
        "outputId": "0004af4b-8a1a-4307-9cc8-4f5940f4ead5"
      },
      "execution_count": 10,
      "outputs": [
        {
          "output_type": "stream",
          "name": "stdout",
          "text": [
            "Melhor Random Forest Score: 0.8305504990270542\n",
            "Melhor Decision Tree Score: 0.8204883560354027\n"
          ]
        }
      ]
    },
    {
      "cell_type": "code",
      "source": [
        "import matplotlib.pyplot as plt\n",
        "import numpy as np\n",
        "\n",
        "# Importância dos atributos para Random Forest\n",
        "rf_importance = best_rf.feature_importances_\n",
        "dt_importance = best_dt.feature_importances_\n",
        "\n",
        "# Criar gráfico comparativo\n",
        "features = X_train.columns\n",
        "x = np.arange(len(features))\n",
        "\n",
        "plt.figure(figsize=(10, 5))\n",
        "plt.barh(x - 0.2, rf_importance, 0.4, label=\"Random Forest\", color='blue')\n",
        "plt.barh(x + 0.2, dt_importance, 0.4, label=\"Decision Tree\", color='green')\n",
        "plt.yticks(x, features)\n",
        "plt.xlabel(\"Importância\")\n",
        "plt.ylabel(\"Atributos\")\n",
        "plt.title(\"Comparação da Importância dos Atributos\")\n",
        "plt.legend()\n",
        "plt.show()\n"
      ],
      "metadata": {
        "colab": {
          "base_uri": "https://localhost:8080/",
          "height": 488
        },
        "id": "NFHqewsLHeQQ",
        "outputId": "28cf46ba-a9f6-4177-ded9-6c2d02c14836"
      },
      "execution_count": 11,
      "outputs": [
        {
          "output_type": "display_data",
          "data": {
            "text/plain": [
              "<Figure size 1000x500 with 1 Axes>"
            ],
            "image/png": "[encoded data removed]"
          },
          "metadata": {}
        }
      ]
    },
    {
      "cell_type": "code",
      "source": [
        "from sklearn.metrics import classification_report\n",
        "\n",
        "# Fazer previsões com os modelos ajustados\n",
        "y_pred_rf = best_rf.predict(X_test)\n",
        "y_pred_dt = best_dt.predict(X_test)\n",
        "\n",
        "# Avaliar os modelos\n",
        "print(\"Random Forest - Relatório de Classificação:\")\n",
        "print(classification_report(y_train, best_rf.predict(X_train)))\n",
        "\n",
        "print(\"\\nÁrvore de Decisão - Relatório de Classificação:\")\n",
        "print(classification_report(y_train, best_dt.predict(X_train)))\n",
        "\n"
      ],
      "metadata": {
        "colab": {
          "base_uri": "https://localhost:8080/"
        },
        "id": "Cl8pXLEIHwXq",
        "outputId": "c0ecf37d-7395-456a-e344-49d808d99de4"
      },
      "execution_count": 12,
      "outputs": [
        {
          "output_type": "stream",
          "name": "stdout",
          "text": [
            "Random Forest - Relatório de Classificação:\n",
            "              precision    recall  f1-score   support\n",
            "\n",
            "           0       0.90      0.96      0.93       549\n",
            "           1       0.93      0.83      0.88       342\n",
            "\n",
            "    accuracy                           0.91       891\n",
            "   macro avg       0.92      0.90      0.90       891\n",
            "weighted avg       0.91      0.91      0.91       891\n",
            "\n",
            "\n",
            "Árvore de Decisão - Relatório de Classificação:\n",
            "              precision    recall  f1-score   support\n",
            "\n",
            "           0       0.87      0.93      0.90       549\n",
            "           1       0.87      0.79      0.83       342\n",
            "\n",
            "    accuracy                           0.87       891\n",
            "   macro avg       0.87      0.86      0.86       891\n",
            "weighted avg       0.87      0.87      0.87       891\n",
            "\n"
          ]
        }
      ]
    }
  ]
}